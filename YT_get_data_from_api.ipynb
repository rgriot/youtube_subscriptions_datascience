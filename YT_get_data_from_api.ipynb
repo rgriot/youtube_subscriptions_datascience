{
 "cells": [
  {
   "cell_type": "code",
   "execution_count": 2,
   "id": "b7eaf66a",
   "metadata": {},
   "outputs": [],
   "source": [
    "import requests\n",
    "import pandas as pd"
   ]
  },
  {
   "cell_type": "code",
   "execution_count": 6,
   "id": "409cd222",
   "metadata": {},
   "outputs": [],
   "source": [
    "api_key = \"your_api_key\"\n",
    "channel_id = \"your_channel_id\"\n",
    "\n",
    "sub_channels_url = f\"https://www.googleapis.com/youtube/v3/subscriptions?part=snippet&channelId={channel_id}&key={api_key}&maxResults=200\""
   ]
  },
  {
   "cell_type": "code",
   "execution_count": 25,
   "id": "556aab87",
   "metadata": {},
   "outputs": [],
   "source": [
    "sub_channels_response = requests.get(sub_channels_url).json()"
   ]
  },
  {
   "cell_type": "code",
   "execution_count": 32,
   "id": "8d06d489",
   "metadata": {},
   "outputs": [],
   "source": [
    "def populate_subscribed_channels(sub_channels):\n",
    "    df = pd.DataFrame(columns = [\"channel_id\", \"channel_title\", \"channel_description\", \"creation_date\"])\n",
    "    \n",
    "    for i in range(len(sub_channels)):\n",
    "        new_row = {\n",
    "            \"channel_id\": sub_channels[i][\"snippet\"][\"resourceId\"][\"channelId\"],\n",
    "            \"channel_title\": sub_channels[i][\"snippet\"][\"title\"],\n",
    "            \"channel_description\": sub_channels[i][\"snippet\"][\"description\"],\n",
    "            \"creation_date\": sub_channels[i][\"snippet\"][\"publishedAt\"]\n",
    "        }\n",
    "        df = df.append(new_row, ignore_index=True)\n",
    "        \n",
    "        df[\"creation_date\"] = df[\"creation_date\"].str.replace(\"T\", \" \").str.replace(\"Z\", \"\")\n",
    "    return df"
   ]
  },
  {
   "cell_type": "code",
   "execution_count": 33,
   "id": "8d7055b0",
   "metadata": {},
   "outputs": [],
   "source": [
    "sub_channels = populate_subscribed_channels(sub_channels_response[\"items\"])"
   ]
  },
  {
   "cell_type": "code",
   "execution_count": 34,
   "id": "ea1ec9d1",
   "metadata": {},
   "outputs": [
    {
     "name": "stdout",
     "output_type": "stream",
     "text": [
      "                 channel_id      channel_title  \\\n",
      "0  UC1GdNuXC7byr3d-b1m7er0Q         Le Musclay   \n",
      "1  UC2avy3Pwc3yVtt-tPKJn33A  ma ferme autonome   \n",
      "2  UC4EDwdyja1R7-dOKa7J4cGw     La maison en A   \n",
      "3  UC4peNo-31r7fhQZgu0_JRIA         Sheshounet   \n",
      "4  UC7D9Q0WzEejlgdXywAgz79A  Réussite Critique   \n",
      "\n",
      "                                 channel_description  \\\n",
      "0  Musculation, nutrition, saupoudré de clashs et...   \n",
      "1  Produire sa nourriture et son énergie. S'appro...   \n",
      "2  Tout est possible. C’est ce concept que j’ai v...   \n",
      "3  Je suis Sheshounet et le contenu que je propos...   \n",
      "4  Mahyar, auteur, justicier, mercenaire. Au serv...   \n",
      "\n",
      "                creation_date  \n",
      "0         2015-01-28 19:50:13  \n",
      "1         2017-10-16 19:58:15  \n",
      "2  2021-05-24 07:42:31.383795  \n",
      "3    2018-12-27 20:03:38.5395  \n",
      "4         2016-01-17 09:49:20  \n"
     ]
    }
   ],
   "source": [
    "print(sub_channels.head())"
   ]
  },
  {
   "cell_type": "code",
   "execution_count": 37,
   "id": "fa38a68e",
   "metadata": {},
   "outputs": [],
   "source": [
    "def get_channel_statistics(channel_id):\n",
    "    channel_stat_url = f\"https://www.googleapis.com/youtube/v3/channels?part=statistics&id={channel_id}&key={api_key}\"\n",
    "    channel_stat_response = requests.get(channel_stat_url).json()\n",
    "    \n",
    "    response_stats = channel_stat_response[\"items\"][0][\"statistics\"]\n",
    "    \n",
    "    channel_stats = {\n",
    "        \"view_count\": response_stats[\"viewCount\"],\n",
    "        \"video_count\": response_stats[\"videoCount\"],\n",
    "        \"number_subscriber\": response_stats[\"subscriberCount\"]\n",
    "    }\n",
    "    return channel_stats\n",
    "\n",
    "def populate_channels_statistics(channels_id):\n",
    "    df = pd.DataFrame(columns = [\"view_count\", \"video_count\", \"number_subscriber\"])\n",
    "    \n",
    "    for channel in channels_id:\n",
    "        df = df.append(get_channel_statistics(channel), ignore_index = True)\n",
    "    return df"
   ]
  },
  {
   "cell_type": "code",
   "execution_count": 40,
   "id": "9beed215",
   "metadata": {},
   "outputs": [],
   "source": [
    "sub_channels_stats = populate_channels_statistics(sub_channels[\"channel_id\"])\n",
    "sub_channels = pd.concat([sub_channels, sub_channels_stats], axis = 1)"
   ]
  },
  {
   "cell_type": "code",
   "execution_count": 42,
   "id": "451bf514",
   "metadata": {},
   "outputs": [
    {
     "name": "stdout",
     "output_type": "stream",
     "text": [
      "                 channel_id      channel_title  \\\n",
      "0  UC1GdNuXC7byr3d-b1m7er0Q         Le Musclay   \n",
      "1  UC2avy3Pwc3yVtt-tPKJn33A  ma ferme autonome   \n",
      "2  UC4EDwdyja1R7-dOKa7J4cGw     La maison en A   \n",
      "3  UC4peNo-31r7fhQZgu0_JRIA         Sheshounet   \n",
      "4  UC7D9Q0WzEejlgdXywAgz79A  Réussite Critique   \n",
      "\n",
      "                                 channel_description  \\\n",
      "0  Musculation, nutrition, saupoudré de clashs et...   \n",
      "1  Produire sa nourriture et son énergie. S'appro...   \n",
      "2  Tout est possible. C’est ce concept que j’ai v...   \n",
      "3  Je suis Sheshounet et le contenu que je propos...   \n",
      "4  Mahyar, auteur, justicier, mercenaire. Au serv...   \n",
      "\n",
      "                creation_date view_count video_count number_subscriber  \n",
      "0         2015-01-28 19:50:13   26446870         100            206000  \n",
      "1         2017-10-16 19:58:15   17326781          83            228000  \n",
      "2  2021-05-24 07:42:31.383795     397014          34              8110  \n",
      "3    2018-12-27 20:03:38.5395  135080039         196            840000  \n",
      "4         2016-01-17 09:49:20    5994913         151             83800  \n"
     ]
    }
   ],
   "source": [
    "print(sub_channels.head())"
   ]
  },
  {
   "cell_type": "code",
   "execution_count": 44,
   "id": "7f02fce8",
   "metadata": {},
   "outputs": [],
   "source": [
    "path_to_save = \"path/to/project\"\n",
    "sub_channels.to_csv(path_to_save + \"/sub_channels_data.csv\", index=False)"
   ]
  },
  {
   "cell_type": "code",
   "execution_count": 27,
   "id": "fb508338",
   "metadata": {},
   "outputs": [],
   "source": [
    "def get_video_language(video_snippet):\n",
    "    try:\n",
    "        video_language = video_snippet[\"defaultLanguage\"]\n",
    "    except KeyError:\n",
    "        try:\n",
    "            video_language = video_snippet[\"defaultAudioLanguage\"]\n",
    "        except KeyError:\n",
    "            video_language = \"\"\n",
    "    return video_language\n",
    "\n",
    "\n",
    "def get_video_tags(video_snippet):\n",
    "    try:\n",
    "        video_tags = \"/\".join(video_snippet[\"tags\"])\n",
    "    except KeyError:\n",
    "        video_tags = \"\"\n",
    "    return video_tags\n",
    "\n",
    "def get_comments_count(video_stat):\n",
    "    try:\n",
    "        comments_count = video_stat[\"commentCount\"]\n",
    "    except KeyError:\n",
    "        comments_count = \"\"\n",
    "    return comments_count\n",
    "        \n",
    "def get_like_count(video_stat):\n",
    "    try:\n",
    "        like_count = video_stat[\"likeCount\"]\n",
    "    except KeyError:\n",
    "        like_count = \"\"\n",
    "    return like_count\n",
    "\n",
    "\n",
    "def get_video_statistics(video_id):\n",
    "    statistics_url = f\"https://www.googleapis.com/youtube/v3/videos?part=snippet,statistics&id={video_id}&key={api_key}\"\n",
    "    video_stat_response = requests.get(statistics_url).json()\n",
    "    \n",
    "    video_item = video_stat_response[\"items\"][0]\n",
    "    video_snippet = video_item[\"snippet\"]\n",
    "    video_stat = video_item[\"statistics\"]\n",
    "    \n",
    "    # print(video_stat_response)\n",
    "    \n",
    "    video_row = {\n",
    "        \"video_id\": video_item[\"id\"],\n",
    "        \"channel_id\": video_snippet[\"channelId\"],\n",
    "        \"publication_date\": video_snippet[\"publishedAt\"],\n",
    "        \"video_language\":  get_video_language(video_snippet),\n",
    "        \"video_title\": video_snippet[\"title\"],\n",
    "        \"video_description\": video_snippet[\"description\"],\n",
    "        \"video_tags\": get_video_tags(video_snippet),\n",
    "        \"view_count\": video_stat[\"viewCount\"],\n",
    "        \"like_count\": get_like_count(video_stat),\n",
    "        \"comment_count\": get_comments_count(video_stat),\n",
    "    }\n",
    "    \n",
    "    return video_row\n",
    "    \n",
    "\n",
    "def create_video_statistics(channel_id, max_video = 200):\n",
    "    video_url = f\"https://www.googleapis.com/youtube/v3/search?part=snippet,id&channelId={channel_id}&key={api_key}&maxResults={max_video}&order=date\"\n",
    "    video_response = requests.get(video_url).json()\n",
    "    \n",
    "    df = pd.DataFrame(columns = [\"video_id\", \"channel_id\", \"publication_date\", \"video_language\", \"video_title\", \"video_description\", \"video_tags\", \"view_count\", \"like_count\", \"comment_count\"])\n",
    "\n",
    "    all_video_response = video_response[\"items\"]\n",
    "    \n",
    "    for i in range(len(all_video_response)):\n",
    "        if all_video_response[i][\"id\"][\"kind\"] == \"youtube#video\":\n",
    "            current_id = all_video_response[i][\"id\"][\"videoId\"]\n",
    "            # print(f\"iteration {i} : {current_id} from {channel_id}\")\n",
    "            df = df.append(get_video_statistics(current_id), ignore_index = True)\n",
    "    return df"
   ]
  },
  {
   "cell_type": "code",
   "execution_count": 31,
   "id": "6ee16e0a",
   "metadata": {},
   "outputs": [
    {
     "name": "stdout",
     "output_type": "stream",
     "text": [
      "current channel : piero 83 - UCDYVDDEHh-l_la4qREvLTyg\n",
      "current channel : Wakademy  - UCEZAl0LQrixylf6jrktlabg\n",
      "current channel : EthosLab - UCFKDEp9si4RmHFWJW1vYsMA\n",
      "current channel : LeLapinTaquin - UCFqBcoewmW6w2bHqacxYJSw\n",
      "current channel : Luke McLaughlin - UCHyxustj5PwgOJY0k--kkKw\n",
      "current channel : tn DNA - UCIZPVRQAqg9LC-yD04WJseQ\n",
      "current channel : Psyko Sauce - UCK1TdGB78zp6Rl6L4RK-hWg\n",
      "current channel : Caljbeut - UCNM-UkIP1BL5jv9ZrN5JMCA\n",
      "current channel : Neuro - UCOUtDNm-8Td8AaJvMLxujtg\n",
      "current channel : Grian - UCR9Gcq0CMm6YgTzsDxAxjOQ\n",
      "current channel : xisumavoid - UCU9pX8hKcrx06XfOB-VQLdw\n",
      "current channel : Absol Vidéos - UCUR03ZSZlEvCO6EWwv4jU2w\n",
      "current channel : Grand Angle - UCWtD8JN9hkxL5TJL_ktaNZA\n",
      "current channel : La statistique expliquée à mon chat - UCWty1tzwZW_ZNSp5GVGteaA\n",
      "current channel : Lucas Gouiffes - UCXJasFdYGWkB-7ObGJL4Ytg\n",
      "current channel : Shawn Woods - UCYbru-MPO1xjes4FVn61JUQ\n",
      "current channel : Valek - UCYdyGYM1aoLpAuCxsP86O1g\n",
      "current channel : iskall85 - UCZ9x-z3iOnIbJxVpm1rsu2A\n",
      "current channel : Le Raptor - UC_i-uMpN1lEyuoUGDq-dajQ\n",
      "current channel : Joueur Du Grenier - UC_yP2DpIgs5Y1uWC0T03Chw\n",
      "current channel : ScienceEtonnante - UCaNlbnghtwlsGF-KzAFThqA\n",
      "current channel : Bill Silverlight - UCaOJMsgk3Z29fyUAkEQTdhg\n",
      "current channel : SEB SPEARIT - UCbZAzSjyPkd11p8_0q33ggg\n",
      "current channel : Durendal1 - UCcliHNE38fJ4n4gYYB0TCQw\n",
      "current channel : Mumbo Jumbo - UChFur_NwVSbUozOcF_F2kMg\n",
      "current channel : Kemar - UChKMRHxLETrj_5JjiqExD1w\n",
      "current channel : Survival Skills Primitive - UChUP6B_3zcdFYZnOdMM21og\n",
      "current channel : StudioUha - UCkjJda7HO1WVVhUsMrDmYuA\n",
      "current channel : Beardbrand - UCm0f2zUj2eSEKfH8IpyHV3Q\n",
      "current channel : Bob Lennon - UCo0U1tbk3YbqiLDhkeWOviQ\n",
      "current channel : Better Than Yesterday - UCpExuV8qJMfCaSQNL1YG6bQ\n",
      "current channel : olivier04 vannerie sauvage et bois - UCpcZA7EQE39_qM6q8wAqS1g\n",
      "current channel : L'Actu Animée - UCrn6624EsDUqLTOQ--fqi_A\n",
      "current channel : Rudy Coia - UCsKge7hBsxIDeLzP1Gr-uYg\n",
      "current channel : permaculture agroécologie etc... - UCsM4_jihNFYe4CtSkXvDR-Q\n"
     ]
    }
   ],
   "source": [
    "for i in range(sub_channels.shape[0]):\n",
    "    current_channel_id = sub_channels[\"channel_id\"][i]\n",
    "    current_channel_title = sub_channels[\"channel_title\"][i]\n",
    "    current_channel_title = current_channel_title.split(\"|\")[0]\n",
    "\n",
    "    print(f\"current channel : {current_channel_title} - {current_channel_id}\")\n",
    "\n",
    "    channel_stat = create_video_statistics(current_channel_id)\n",
    "    channel_stat.to_csv(path + f\"/{current_channel_title}_videos_stat.csv\")"
   ]
  },
  {
   "cell_type": "code",
   "execution_count": null,
   "id": "647da926",
   "metadata": {},
   "outputs": [],
   "source": []
  }
 ],
 "metadata": {
  "kernelspec": {
   "display_name": "Python 3 (ipykernel)",
   "language": "python",
   "name": "python3"
  },
  "language_info": {
   "codemirror_mode": {
    "name": "ipython",
    "version": 3
   },
   "file_extension": ".py",
   "mimetype": "text/x-python",
   "name": "python",
   "nbconvert_exporter": "python",
   "pygments_lexer": "ipython3",
   "version": "3.9.7"
  }
 },
 "nbformat": 4,
 "nbformat_minor": 5
}
